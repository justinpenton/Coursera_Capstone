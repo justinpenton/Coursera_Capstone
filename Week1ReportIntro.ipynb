{
 "cells": [
  {
   "cell_type": "markdown",
   "metadata": {},
   "source": [
    "<h1>Introduction/Business Problem</h1>"
   ]
  },
  {
   "cell_type": "markdown",
   "metadata": {},
   "source": [
    "<p>When an individual or group is looking to establish a venue within a new city, one of the key considerations that they will need to make is the scale to which the type of venue they are looking to establish already exists within that particular city.\n",
    "\n",
    "In this case, the business I am working for are considering establishing a new venue in Manhattan, New York within the next year or two. However, we as a business are uncertain of the current landscape of this location when it comes to the different venue types that are present within this location’s vicinity.\n",
    "\n",
    "Therefore, prior to fully committing to this costly exercise, through the use of data science we as a business want to explore the problem of what type of venues make up the largest percentage of venues within the location of Manhattan, New York and thus, determine the type of venue we should invest in as a company.\n",
    "</p>"
   ]
  },
  {
   "cell_type": "markdown",
   "metadata": {},
   "source": [
    "<h1>Data</h1>"
   ]
  },
  {
   "cell_type": "markdown",
   "metadata": {},
   "source": [
    "<p>\n",
    "In solving this problem using data science, we will aim to utilise Foursquare’s API to gain location data/information regarding venues that currently exist around Manhattan, New York. \n",
    "\n",
    "This information will be retrieved, stored and analysed through the use of Python and the Python data analysis tool kit Pandas. \n",
    "\n",
    "Key information that we will be looking to gather about the different venues will include distance from the location and the category of the venue.\n",
    "</p>"
   ]
  },
  {
   "cell_type": "code",
   "execution_count": null,
   "metadata": {},
   "outputs": [],
   "source": []
  }
 ],
 "metadata": {
  "kernelspec": {
   "display_name": "Python 3",
   "language": "python",
   "name": "python3"
  },
  "language_info": {
   "codemirror_mode": {
    "name": "ipython",
    "version": 3
   },
   "file_extension": ".py",
   "mimetype": "text/x-python",
   "name": "python",
   "nbconvert_exporter": "python",
   "pygments_lexer": "ipython3",
   "version": "3.6.5"
  }
 },
 "nbformat": 4,
 "nbformat_minor": 2
}
