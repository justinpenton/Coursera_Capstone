{
 "cells": [
  {
   "cell_type": "markdown",
   "metadata": {},
   "source": [
    "<h1>Introduction/Business Problem</h1>"
   ]
  },
  {
   "cell_type": "markdown",
   "metadata": {},
   "source": [
    "<p>When an individual or group is looking to establish a venue within a new city, one of the key considerations that they will need to make is the scale to which the type of venue they are looking to establish already exists within that particular city.\n",
    "\n",
    "In this case, the business I am working for are considering establishing a new venue in Manhattan, New York within the next year or two. However, we as a business are uncertain of the current landscape of this location when it comes to the different venue types that are present within this location’s vicinity.\n",
    "\n",
    "Therefore, prior to fully committing to this costly exercise, through the use of data science we as a business want to explore the problem of what type of venues make up the largest percentage of venues within the location of Manhattan, New York and thus, determine the type of venue we should invest in as a company.\n",
    "</p>"
   ]
  },
  {
   "cell_type": "markdown",
   "metadata": {},
   "source": [
    "<h1>Data</h1>"
   ]
  },
  {
   "cell_type": "markdown",
   "metadata": {},
   "source": [
    "<p>\n",
    "In solving this problem using data science, we will aim to utilise Foursquare’s API to gain location data/information regarding venues that currently exist around Manhattan, New York. \n",
    "\n",
    "This information will be retrieved, stored and analysed through the use of Python and the Python data analysis tool kit Pandas. \n",
    "\n",
    "Key information that we will be looking to gather about the different venues will include distance from the location and the category of the venue.\n",
    "</p>"
   ]
  },
  {
   "cell_type": "markdown",
   "metadata": {},
   "source": [
    "<h1>Methodology</h1>"
   ]
  },
  {
   "cell_type": "markdown",
   "metadata": {},
   "source": [
    "<p>Exploratory data analysis for the problem described was conducted in Python within Jupyter Notebooks. \n",
    "\n",
    "The first stage in the process was to retrieve the longitude and latitude coordinates for the desired location in which the business is considering establishing a venue within. In this case it was Manhattan, NY. This was achieved through importing geopy.geocoders and using the function Nominatim.\n",
    "\n",
    "The next step of exploratory data analysis was to use the Foursquare API to obtain information of the 100 closest venues to the location coordinates which were provided. The information about these venues were then stored in a dataframe using the Python data analysis tool kit Pandas.\n",
    "\n",
    "Folium was then used to provide a visualisation of the location that the business is considering establishing a venue within with markers being used to display the 100 closest venues which we had previously retrieved.\n",
    "\n",
    "The next stage of data analysis involved grouping the 100 closest venues into categories and then determining what were the most and least prevalent types of venues in the vicinity of our business’ location of choice.\n",
    "</p>"
   ]
  },
  {
   "cell_type": "markdown",
   "metadata": {},
   "source": [
    "<h1>Results</h1>"
   ]
  },
  {
   "cell_type": "markdown",
   "metadata": {},
   "source": [
    "<p>Using folium and the information provided by the Foursquares API allowed us to visualise locations of the 100 closest venues to location which we provided. (This can be seen in the presentation)\n",
    "    \n",
    "Using the Foursquare API and Pandas we were able to create a data frame summarising the key details of the venues such as the venue’s name, latitude, longitude, distance from location and category. (This can be seen in the presentation)\n",
    "    \n",
    "As part of the data analysis method, this information was further extracted to group the previous dataframe into categories. The number of occurrences of each category was then recorded in the data frame and the percentage of venues that were a particular venue type was also provided. (This can be seen in the presentation)\n",
    "</p>\n"
   ]
  },
  {
   "cell_type": "markdown",
   "metadata": {},
   "source": [
    "<h1>Discussion</h1>"
   ]
  },
  {
   "cell_type": "markdown",
   "metadata": {},
   "source": [
    "<p>\n",
    "   From the final data frame (which can be seen in the presentation) it can be seen that the two most prevalent types of venues near the location provided in Manhattan, New York is a Park and a Playground. These two types of venues together make up 15% of the venues within this area. Another interesting result of the data analysis performed is that there are 31 other venue categories within the dataset that only have one venue in the area of that type.\n",
    "\n",
    "</p>"
   ]
  },
  {
   "cell_type": "markdown",
   "metadata": {},
   "source": [
    "<h1>Conclusion</h1>"
   ]
  },
  {
   "cell_type": "markdown",
   "metadata": {},
   "source": [
    "<p>Based on the data analysis, in order for the business to achieve their goal of establishing a venue of a category type that isn’t already over saturated in the area, I would recommend that they either create a venue of a type not represented in the data set or on the other hand select a category where there is only one or two venues in the area of that type. This would ultimately mean not establishing a park, playground, scenic lookout, café, plaza, wine shop, grocery store, baseball field, art museum, pizza place or deli/bodega within the area. Thus, allowing their venue to be completely or relatively unique within this area of Manhattan, New York. </p>\n"
   ]
  },
  {
   "cell_type": "code",
   "execution_count": null,
   "metadata": {},
   "outputs": [],
   "source": []
  }
 ],
 "metadata": {
  "kernelspec": {
   "display_name": "Python 3",
   "language": "python",
   "name": "python3"
  },
  "language_info": {
   "codemirror_mode": {
    "name": "ipython",
    "version": 3
   },
   "file_extension": ".py",
   "mimetype": "text/x-python",
   "name": "python",
   "nbconvert_exporter": "python",
   "pygments_lexer": "ipython3",
   "version": "3.6.5"
  }
 },
 "nbformat": 4,
 "nbformat_minor": 2
}
